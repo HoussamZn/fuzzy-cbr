{
 "cells": [
  {
   "cell_type": "markdown",
   "metadata": {},
   "source": [
    "# Model"
   ]
  },
  {
   "cell_type": "code",
   "execution_count": 63,
   "metadata": {},
   "outputs": [],
   "source": [
    "import numpy as np\n",
    "import skfuzzy as fuzz\n",
    "from sklearn.metrics import accuracy_score\n",
    "from scipy.spatial.distance import cdist, jaccard, cityblock\n",
    "\n",
    "class FuzzyClusteredCBR:\n",
    "    def __init__(self, max_clusters=None,similarity_measure=\"euclidean\",nclusters=None,k=5):\n",
    "        self.max_clusters = max_clusters\n",
    "        self.centroids = None\n",
    "        self.memberships = None\n",
    "        self.optimal_clusters = None\n",
    "        self.case_base = None\n",
    "        self.labels = None\n",
    "        self.similarity_measure = similarity_measure\n",
    "        self.accuraccy_by_ncluster = []\n",
    "        self.nclusters = nclusters\n",
    "        self.k = k\n",
    "        \n",
    "        \n",
    "    def _calculate_distance(self, x, y):\n",
    "        \"\"\"Calculate distance using selected similarity measure\"\"\"\n",
    "        if self.similarity_measure == 'euclidean':\n",
    "            return cdist([x], [y], metric='euclidean')[0][0]\n",
    "        elif self.similarity_measure == 'cityblock':\n",
    "            return cityblock(x, y)\n",
    "        else:  # jaccard\n",
    "            return jaccard(x, y)\n",
    "    \n",
    "    def _predict_single_case(self, case, temp_case_base, temp_labels, centroids, temp_memberships):\n",
    "        \"\"\"\n",
    "        Predict the label for a single case during leave-one-out validation\n",
    "        \n",
    "        Parameters:\n",
    "        -----------\n",
    "        case : array-like\n",
    "            The case to predict\n",
    "        temp_case_base : array-like\n",
    "            Training cases excluding the current case\n",
    "        temp_labels : array-like\n",
    "            Labels excluding the current case\n",
    "        centroids : array-like\n",
    "            Cluster centroids\n",
    "        temp_memberships : array-like\n",
    "            Membership matrix excluding the current case\n",
    "            \n",
    "        Returns:\n",
    "        --------\n",
    "        predicted_label : int or string\n",
    "            The predicted label for the case\n",
    "        \"\"\"\n",
    "        # Calculate memberships for the case using provided centroids\n",
    "        memberships = self._compute_memberships_with_centroids(case, centroids)\n",
    "        \n",
    "        # Find relevant clusters (membership > 0.1)\n",
    "        relevant_clusters = np.where(memberships > 0.1)[0]\n",
    "        \n",
    "        # Get cases from relevant clusters with weights\n",
    "        candidate_indices = []\n",
    "        weights = []\n",
    "        \n",
    "        for cluster in relevant_clusters:\n",
    "            cluster_cases = np.where(np.argmax(temp_memberships, axis=0) == cluster)[0]\n",
    "            #aggregation \n",
    "            for case_idx in cluster_cases:\n",
    "                weight = max([min(memberships[cluster], \n",
    "                               temp_memberships[cluster][case_idx])\n",
    "                           for cluster in relevant_clusters])\n",
    "                candidate_indices.append(case_idx)\n",
    "                weights.append(weight)\n",
    "        \n",
    "        if not candidate_indices:\n",
    "            # If no relevant clusters found, use nearest neighbor\n",
    "            distances = np.array([self._calculate_distance(case, c) \n",
    "                                for c in temp_case_base])\n",
    "            predicted_label = temp_labels[np.argmin(distances)]\n",
    "        else:\n",
    "            # Get top-k nearest neighbors based on similarity\n",
    "            top_k_indices = np.argsort(weights)[-self.k:]\n",
    "            top_k_labels = temp_labels[candidate_indices][top_k_indices]\n",
    "            \n",
    "            # Return the most frequent label among k-nearest neighbors\n",
    "            predicted_label = max(set(top_k_labels), key=list(top_k_labels).count)\n",
    "            return predicted_label\n",
    "            \n",
    "            \n",
    "        return predicted_label\n",
    "\n",
    "    def _compute_memberships_with_centroids(self, case, centroids):\n",
    "        \"\"\"Helper method to compute fuzzy memberships for a case using provided centroids\"\"\"\n",
    "        distances = np.array([self._calculate_distance(case, centroid) \n",
    "                            for centroid in centroids])\n",
    "        m = 2  # Fuzziness parameter\n",
    "        n_clusters = len(centroids)\n",
    "        \n",
    "        memberships = np.zeros(n_clusters)\n",
    "        for j in range(n_clusters):\n",
    "            denominator = 0\n",
    "            for k in range(n_clusters):\n",
    "                if distances[k] == 0:\n",
    "                    memberships[j] = 0\n",
    "                    break\n",
    "                denominator += (distances[j] / distances[k]) ** (2/(m-1))\n",
    "            else:\n",
    "                memberships[j] = 1 / denominator\n",
    "        \n",
    "        return memberships\n",
    "            \n",
    "    def fuzzy_cluster_casebase(self, case_base, labels):\n",
    "        \"\"\"\n",
    "        Algorithm 1: Partition case-base into optimal number of fuzzy clusters\n",
    "        \"\"\"\n",
    "        self.case_base = np.array(case_base)\n",
    "        self.max_clusters = len(case_base)//2 if self.max_clusters is None else self.max_clusters\n",
    "        self.labels = np.array(labels)\n",
    "        best_accuracy = 0\n",
    "        best_n_clusters = 2\n",
    "        \n",
    "        best_centroids = None\n",
    "        best_memberships = None\n",
    "        \n",
    "            \n",
    "        # Brute force search for optimal number of clusters\n",
    "        iter_range = range(1, self.max_clusters+1) if self.nclusters is None else [self.nclusters]\n",
    "        for n_clusters in iter_range:\n",
    "            centroids, memberships, _, _, _, _, _ = fuzz.cluster.cmeans(\n",
    "                case_base.T, n_clusters, m=2, error=0.005, maxiter=1000\n",
    "            )\n",
    "            \n",
    "            # Leave-one-out validation\n",
    "            correct_predictions = 0\n",
    "            for i in range(len(case_base)):\n",
    "                temp_case_base = np.delete(case_base, i, axis=0)\n",
    "                temp_labels = np.delete(labels, i)\n",
    "                temp_memberships = np.delete(memberships, i, axis=1)\n",
    "                \n",
    "                prediction = self._predict_single_case(\n",
    "                    case_base[i], \n",
    "                    temp_case_base,\n",
    "                    temp_labels,\n",
    "                    centroids,\n",
    "                    temp_memberships\n",
    "                )\n",
    "                \n",
    "                if prediction == labels[i]:\n",
    "                    correct_predictions += 1\n",
    "            \n",
    "            accuracy = correct_predictions / len(case_base)\n",
    "            self.accuraccy_by_ncluster.append(accuracy)\n",
    "            \n",
    "            if accuracy >= best_accuracy:\n",
    "                best_accuracy = accuracy\n",
    "                best_n_clusters = n_clusters\n",
    "                best_centroids = centroids\n",
    "                best_memberships = memberships\n",
    "        \n",
    "        self.optimal_clusters = best_n_clusters\n",
    "        self.centroids = best_centroids\n",
    "        self.memberships = best_memberships\n",
    "        return best_n_clusters,best_accuracy\n",
    "    \n",
    "    def predict_new_case(self, new_case):\n",
    "        \"\"\"\n",
    "        Algorithm 2: Decision making process using fuzzy clustered CBR\n",
    "        \"\"\"\n",
    "        if self.centroids is None:\n",
    "            raise ValueError(\"Model must be trained using fuzzy_cluster_casebase before making predictions\")\n",
    "            \n",
    "        # Fuzzy classification of new case\n",
    "        memberships = self._compute_memberships_with_centroids(new_case, self.centroids)\n",
    "        \n",
    "        # Find relevant clusters\n",
    "        relevant_clusters = np.where(memberships > 0.1)[0] # return indices of centroids above treshold\n",
    "        \n",
    "        # Get cases from relevant clusters with weights\n",
    "        candidate_indices = []\n",
    "        weights = []\n",
    "        \n",
    "        for cluster in relevant_clusters:\n",
    "            cluster_cases = np.where(np.argmax(self.memberships, axis=0) == cluster)[0]\n",
    "            for case_idx in cluster_cases:\n",
    "                weight = max([min(memberships[cluster], \n",
    "                               self.memberships[cluster][case_idx])\n",
    "                           for cluster in relevant_clusters])\n",
    "                candidate_indices.append(case_idx)\n",
    "                weights.append(weight)\n",
    "        \n",
    "        if not candidate_indices:\n",
    "            distances = np.array([self._calculate_distance(new_case, case) \n",
    "                                for case in self.case_base])\n",
    "            predicted_label = self.labels[np.argmin(distances)]\n",
    "        else:\n",
    "            # Get top-k nearest neighbors based on similarity\n",
    "            top_k_indices = np.argsort(weights)[-self.k:]\n",
    "            top_k_labels = self.labels[candidate_indices][top_k_indices]\n",
    "            \n",
    "            # Return the most frequent label among k-nearest neighbors\n",
    "            predicted_label = max(set(top_k_labels), key=list(top_k_labels).count)\n",
    "\n",
    "\n",
    "        \n",
    "        # Store the new case with its membership vector\n",
    "        self.case_base = np.vstack((self.case_base, new_case))\n",
    "        self.labels = np.append(self.labels, predicted_label)\n",
    "        \n",
    "        # Update memberships matrix\n",
    "        new_memberships = self._compute_memberships_with_centroids(new_case, self.centroids)\n",
    "        self.memberships = np.column_stack((self.memberships, new_memberships))\n",
    "        \n",
    "        return predicted_label"
   ]
  },
  {
   "cell_type": "markdown",
   "metadata": {},
   "source": [
    "# Data"
   ]
  },
  {
   "cell_type": "markdown",
   "metadata": {},
   "source": [
    "## Wisconsin breast cancer"
   ]
  },
  {
   "cell_type": "code",
   "execution_count": 64,
   "metadata": {},
   "outputs": [],
   "source": [
    "from sklearn.datasets import load_breast_cancer\n",
    "from sklearn.model_selection import train_test_split\n",
    "from sklearn.preprocessing import LabelEncoder\n",
    "import pandas as pd\n"
   ]
  },
  {
   "cell_type": "code",
   "execution_count": 65,
   "metadata": {},
   "outputs": [],
   "source": [
    "# Load dataset\n",
    "loaded_breast_cancer = load_breast_cancer()\n",
    "X_breast_cancer, y_breast_cancer = loaded_breast_cancer.data, loaded_breast_cancer.target"
   ]
  },
  {
   "cell_type": "code",
   "execution_count": 66,
   "metadata": {},
   "outputs": [
    {
     "data": {
      "text/html": [
       "<div>\n",
       "<style scoped>\n",
       "    .dataframe tbody tr th:only-of-type {\n",
       "        vertical-align: middle;\n",
       "    }\n",
       "\n",
       "    .dataframe tbody tr th {\n",
       "        vertical-align: top;\n",
       "    }\n",
       "\n",
       "    .dataframe thead th {\n",
       "        text-align: right;\n",
       "    }\n",
       "</style>\n",
       "<table border=\"1\" class=\"dataframe\">\n",
       "  <thead>\n",
       "    <tr style=\"text-align: right;\">\n",
       "      <th></th>\n",
       "      <th>mean radius</th>\n",
       "      <th>mean texture</th>\n",
       "      <th>mean perimeter</th>\n",
       "      <th>mean area</th>\n",
       "      <th>mean smoothness</th>\n",
       "      <th>mean compactness</th>\n",
       "      <th>mean concavity</th>\n",
       "      <th>mean concave points</th>\n",
       "      <th>mean symmetry</th>\n",
       "      <th>mean fractal dimension</th>\n",
       "      <th>...</th>\n",
       "      <th>worst texture</th>\n",
       "      <th>worst perimeter</th>\n",
       "      <th>worst area</th>\n",
       "      <th>worst smoothness</th>\n",
       "      <th>worst compactness</th>\n",
       "      <th>worst concavity</th>\n",
       "      <th>worst concave points</th>\n",
       "      <th>worst symmetry</th>\n",
       "      <th>worst fractal dimension</th>\n",
       "      <th>target</th>\n",
       "    </tr>\n",
       "  </thead>\n",
       "  <tbody>\n",
       "    <tr>\n",
       "      <th>0</th>\n",
       "      <td>17.99</td>\n",
       "      <td>10.38</td>\n",
       "      <td>122.80</td>\n",
       "      <td>1001.0</td>\n",
       "      <td>0.11840</td>\n",
       "      <td>0.27760</td>\n",
       "      <td>0.30010</td>\n",
       "      <td>0.14710</td>\n",
       "      <td>0.2419</td>\n",
       "      <td>0.07871</td>\n",
       "      <td>...</td>\n",
       "      <td>17.33</td>\n",
       "      <td>184.60</td>\n",
       "      <td>2019.0</td>\n",
       "      <td>0.16220</td>\n",
       "      <td>0.66560</td>\n",
       "      <td>0.7119</td>\n",
       "      <td>0.2654</td>\n",
       "      <td>0.4601</td>\n",
       "      <td>0.11890</td>\n",
       "      <td>0</td>\n",
       "    </tr>\n",
       "    <tr>\n",
       "      <th>1</th>\n",
       "      <td>20.57</td>\n",
       "      <td>17.77</td>\n",
       "      <td>132.90</td>\n",
       "      <td>1326.0</td>\n",
       "      <td>0.08474</td>\n",
       "      <td>0.07864</td>\n",
       "      <td>0.08690</td>\n",
       "      <td>0.07017</td>\n",
       "      <td>0.1812</td>\n",
       "      <td>0.05667</td>\n",
       "      <td>...</td>\n",
       "      <td>23.41</td>\n",
       "      <td>158.80</td>\n",
       "      <td>1956.0</td>\n",
       "      <td>0.12380</td>\n",
       "      <td>0.18660</td>\n",
       "      <td>0.2416</td>\n",
       "      <td>0.1860</td>\n",
       "      <td>0.2750</td>\n",
       "      <td>0.08902</td>\n",
       "      <td>0</td>\n",
       "    </tr>\n",
       "    <tr>\n",
       "      <th>2</th>\n",
       "      <td>19.69</td>\n",
       "      <td>21.25</td>\n",
       "      <td>130.00</td>\n",
       "      <td>1203.0</td>\n",
       "      <td>0.10960</td>\n",
       "      <td>0.15990</td>\n",
       "      <td>0.19740</td>\n",
       "      <td>0.12790</td>\n",
       "      <td>0.2069</td>\n",
       "      <td>0.05999</td>\n",
       "      <td>...</td>\n",
       "      <td>25.53</td>\n",
       "      <td>152.50</td>\n",
       "      <td>1709.0</td>\n",
       "      <td>0.14440</td>\n",
       "      <td>0.42450</td>\n",
       "      <td>0.4504</td>\n",
       "      <td>0.2430</td>\n",
       "      <td>0.3613</td>\n",
       "      <td>0.08758</td>\n",
       "      <td>0</td>\n",
       "    </tr>\n",
       "    <tr>\n",
       "      <th>3</th>\n",
       "      <td>11.42</td>\n",
       "      <td>20.38</td>\n",
       "      <td>77.58</td>\n",
       "      <td>386.1</td>\n",
       "      <td>0.14250</td>\n",
       "      <td>0.28390</td>\n",
       "      <td>0.24140</td>\n",
       "      <td>0.10520</td>\n",
       "      <td>0.2597</td>\n",
       "      <td>0.09744</td>\n",
       "      <td>...</td>\n",
       "      <td>26.50</td>\n",
       "      <td>98.87</td>\n",
       "      <td>567.7</td>\n",
       "      <td>0.20980</td>\n",
       "      <td>0.86630</td>\n",
       "      <td>0.6869</td>\n",
       "      <td>0.2575</td>\n",
       "      <td>0.6638</td>\n",
       "      <td>0.17300</td>\n",
       "      <td>0</td>\n",
       "    </tr>\n",
       "    <tr>\n",
       "      <th>4</th>\n",
       "      <td>20.29</td>\n",
       "      <td>14.34</td>\n",
       "      <td>135.10</td>\n",
       "      <td>1297.0</td>\n",
       "      <td>0.10030</td>\n",
       "      <td>0.13280</td>\n",
       "      <td>0.19800</td>\n",
       "      <td>0.10430</td>\n",
       "      <td>0.1809</td>\n",
       "      <td>0.05883</td>\n",
       "      <td>...</td>\n",
       "      <td>16.67</td>\n",
       "      <td>152.20</td>\n",
       "      <td>1575.0</td>\n",
       "      <td>0.13740</td>\n",
       "      <td>0.20500</td>\n",
       "      <td>0.4000</td>\n",
       "      <td>0.1625</td>\n",
       "      <td>0.2364</td>\n",
       "      <td>0.07678</td>\n",
       "      <td>0</td>\n",
       "    </tr>\n",
       "    <tr>\n",
       "      <th>...</th>\n",
       "      <td>...</td>\n",
       "      <td>...</td>\n",
       "      <td>...</td>\n",
       "      <td>...</td>\n",
       "      <td>...</td>\n",
       "      <td>...</td>\n",
       "      <td>...</td>\n",
       "      <td>...</td>\n",
       "      <td>...</td>\n",
       "      <td>...</td>\n",
       "      <td>...</td>\n",
       "      <td>...</td>\n",
       "      <td>...</td>\n",
       "      <td>...</td>\n",
       "      <td>...</td>\n",
       "      <td>...</td>\n",
       "      <td>...</td>\n",
       "      <td>...</td>\n",
       "      <td>...</td>\n",
       "      <td>...</td>\n",
       "      <td>...</td>\n",
       "    </tr>\n",
       "    <tr>\n",
       "      <th>564</th>\n",
       "      <td>21.56</td>\n",
       "      <td>22.39</td>\n",
       "      <td>142.00</td>\n",
       "      <td>1479.0</td>\n",
       "      <td>0.11100</td>\n",
       "      <td>0.11590</td>\n",
       "      <td>0.24390</td>\n",
       "      <td>0.13890</td>\n",
       "      <td>0.1726</td>\n",
       "      <td>0.05623</td>\n",
       "      <td>...</td>\n",
       "      <td>26.40</td>\n",
       "      <td>166.10</td>\n",
       "      <td>2027.0</td>\n",
       "      <td>0.14100</td>\n",
       "      <td>0.21130</td>\n",
       "      <td>0.4107</td>\n",
       "      <td>0.2216</td>\n",
       "      <td>0.2060</td>\n",
       "      <td>0.07115</td>\n",
       "      <td>0</td>\n",
       "    </tr>\n",
       "    <tr>\n",
       "      <th>565</th>\n",
       "      <td>20.13</td>\n",
       "      <td>28.25</td>\n",
       "      <td>131.20</td>\n",
       "      <td>1261.0</td>\n",
       "      <td>0.09780</td>\n",
       "      <td>0.10340</td>\n",
       "      <td>0.14400</td>\n",
       "      <td>0.09791</td>\n",
       "      <td>0.1752</td>\n",
       "      <td>0.05533</td>\n",
       "      <td>...</td>\n",
       "      <td>38.25</td>\n",
       "      <td>155.00</td>\n",
       "      <td>1731.0</td>\n",
       "      <td>0.11660</td>\n",
       "      <td>0.19220</td>\n",
       "      <td>0.3215</td>\n",
       "      <td>0.1628</td>\n",
       "      <td>0.2572</td>\n",
       "      <td>0.06637</td>\n",
       "      <td>0</td>\n",
       "    </tr>\n",
       "    <tr>\n",
       "      <th>566</th>\n",
       "      <td>16.60</td>\n",
       "      <td>28.08</td>\n",
       "      <td>108.30</td>\n",
       "      <td>858.1</td>\n",
       "      <td>0.08455</td>\n",
       "      <td>0.10230</td>\n",
       "      <td>0.09251</td>\n",
       "      <td>0.05302</td>\n",
       "      <td>0.1590</td>\n",
       "      <td>0.05648</td>\n",
       "      <td>...</td>\n",
       "      <td>34.12</td>\n",
       "      <td>126.70</td>\n",
       "      <td>1124.0</td>\n",
       "      <td>0.11390</td>\n",
       "      <td>0.30940</td>\n",
       "      <td>0.3403</td>\n",
       "      <td>0.1418</td>\n",
       "      <td>0.2218</td>\n",
       "      <td>0.07820</td>\n",
       "      <td>0</td>\n",
       "    </tr>\n",
       "    <tr>\n",
       "      <th>567</th>\n",
       "      <td>20.60</td>\n",
       "      <td>29.33</td>\n",
       "      <td>140.10</td>\n",
       "      <td>1265.0</td>\n",
       "      <td>0.11780</td>\n",
       "      <td>0.27700</td>\n",
       "      <td>0.35140</td>\n",
       "      <td>0.15200</td>\n",
       "      <td>0.2397</td>\n",
       "      <td>0.07016</td>\n",
       "      <td>...</td>\n",
       "      <td>39.42</td>\n",
       "      <td>184.60</td>\n",
       "      <td>1821.0</td>\n",
       "      <td>0.16500</td>\n",
       "      <td>0.86810</td>\n",
       "      <td>0.9387</td>\n",
       "      <td>0.2650</td>\n",
       "      <td>0.4087</td>\n",
       "      <td>0.12400</td>\n",
       "      <td>0</td>\n",
       "    </tr>\n",
       "    <tr>\n",
       "      <th>568</th>\n",
       "      <td>7.76</td>\n",
       "      <td>24.54</td>\n",
       "      <td>47.92</td>\n",
       "      <td>181.0</td>\n",
       "      <td>0.05263</td>\n",
       "      <td>0.04362</td>\n",
       "      <td>0.00000</td>\n",
       "      <td>0.00000</td>\n",
       "      <td>0.1587</td>\n",
       "      <td>0.05884</td>\n",
       "      <td>...</td>\n",
       "      <td>30.37</td>\n",
       "      <td>59.16</td>\n",
       "      <td>268.6</td>\n",
       "      <td>0.08996</td>\n",
       "      <td>0.06444</td>\n",
       "      <td>0.0000</td>\n",
       "      <td>0.0000</td>\n",
       "      <td>0.2871</td>\n",
       "      <td>0.07039</td>\n",
       "      <td>1</td>\n",
       "    </tr>\n",
       "  </tbody>\n",
       "</table>\n",
       "<p>569 rows × 31 columns</p>\n",
       "</div>"
      ],
      "text/plain": [
       "     mean radius  mean texture  mean perimeter  mean area  mean smoothness  \\\n",
       "0          17.99         10.38          122.80     1001.0          0.11840   \n",
       "1          20.57         17.77          132.90     1326.0          0.08474   \n",
       "2          19.69         21.25          130.00     1203.0          0.10960   \n",
       "3          11.42         20.38           77.58      386.1          0.14250   \n",
       "4          20.29         14.34          135.10     1297.0          0.10030   \n",
       "..           ...           ...             ...        ...              ...   \n",
       "564        21.56         22.39          142.00     1479.0          0.11100   \n",
       "565        20.13         28.25          131.20     1261.0          0.09780   \n",
       "566        16.60         28.08          108.30      858.1          0.08455   \n",
       "567        20.60         29.33          140.10     1265.0          0.11780   \n",
       "568         7.76         24.54           47.92      181.0          0.05263   \n",
       "\n",
       "     mean compactness  mean concavity  mean concave points  mean symmetry  \\\n",
       "0             0.27760         0.30010              0.14710         0.2419   \n",
       "1             0.07864         0.08690              0.07017         0.1812   \n",
       "2             0.15990         0.19740              0.12790         0.2069   \n",
       "3             0.28390         0.24140              0.10520         0.2597   \n",
       "4             0.13280         0.19800              0.10430         0.1809   \n",
       "..                ...             ...                  ...            ...   \n",
       "564           0.11590         0.24390              0.13890         0.1726   \n",
       "565           0.10340         0.14400              0.09791         0.1752   \n",
       "566           0.10230         0.09251              0.05302         0.1590   \n",
       "567           0.27700         0.35140              0.15200         0.2397   \n",
       "568           0.04362         0.00000              0.00000         0.1587   \n",
       "\n",
       "     mean fractal dimension  ...  worst texture  worst perimeter  worst area  \\\n",
       "0                   0.07871  ...          17.33           184.60      2019.0   \n",
       "1                   0.05667  ...          23.41           158.80      1956.0   \n",
       "2                   0.05999  ...          25.53           152.50      1709.0   \n",
       "3                   0.09744  ...          26.50            98.87       567.7   \n",
       "4                   0.05883  ...          16.67           152.20      1575.0   \n",
       "..                      ...  ...            ...              ...         ...   \n",
       "564                 0.05623  ...          26.40           166.10      2027.0   \n",
       "565                 0.05533  ...          38.25           155.00      1731.0   \n",
       "566                 0.05648  ...          34.12           126.70      1124.0   \n",
       "567                 0.07016  ...          39.42           184.60      1821.0   \n",
       "568                 0.05884  ...          30.37            59.16       268.6   \n",
       "\n",
       "     worst smoothness  worst compactness  worst concavity  \\\n",
       "0             0.16220            0.66560           0.7119   \n",
       "1             0.12380            0.18660           0.2416   \n",
       "2             0.14440            0.42450           0.4504   \n",
       "3             0.20980            0.86630           0.6869   \n",
       "4             0.13740            0.20500           0.4000   \n",
       "..                ...                ...              ...   \n",
       "564           0.14100            0.21130           0.4107   \n",
       "565           0.11660            0.19220           0.3215   \n",
       "566           0.11390            0.30940           0.3403   \n",
       "567           0.16500            0.86810           0.9387   \n",
       "568           0.08996            0.06444           0.0000   \n",
       "\n",
       "     worst concave points  worst symmetry  worst fractal dimension  target  \n",
       "0                  0.2654          0.4601                  0.11890       0  \n",
       "1                  0.1860          0.2750                  0.08902       0  \n",
       "2                  0.2430          0.3613                  0.08758       0  \n",
       "3                  0.2575          0.6638                  0.17300       0  \n",
       "4                  0.1625          0.2364                  0.07678       0  \n",
       "..                    ...             ...                      ...     ...  \n",
       "564                0.2216          0.2060                  0.07115       0  \n",
       "565                0.1628          0.2572                  0.06637       0  \n",
       "566                0.1418          0.2218                  0.07820       0  \n",
       "567                0.2650          0.4087                  0.12400       0  \n",
       "568                0.0000          0.2871                  0.07039       1  \n",
       "\n",
       "[569 rows x 31 columns]"
      ]
     },
     "execution_count": 66,
     "metadata": {},
     "output_type": "execute_result"
    }
   ],
   "source": [
    "breast_cancer_df = pd.DataFrame(data=loaded_breast_cancer.data,columns=loaded_breast_cancer.feature_names)\n",
    "breast_cancer_df[\"target\"] = loaded_breast_cancer.target\n",
    "breast_cancer_df"
   ]
  },
  {
   "cell_type": "code",
   "execution_count": 67,
   "metadata": {},
   "outputs": [],
   "source": [
    "from sklearn.preprocessing import StandardScaler\n",
    "\n",
    "scaler = StandardScaler()\n",
    "X_breast_cancer = scaler.fit_transform(X_breast_cancer)"
   ]
  },
  {
   "cell_type": "code",
   "execution_count": 68,
   "metadata": {},
   "outputs": [],
   "source": [
    "# Split data\n",
    "X_train_breast_cancer, X_test_breast_cancer, y_train_breast_cancer, y_test_breast_cancer = train_test_split(X_breast_cancer, y_breast_cancer, test_size=0.2, random_state=42)"
   ]
  },
  {
   "cell_type": "markdown",
   "metadata": {},
   "source": [
    "## Autonomic Forest Fire Application (AFFA)"
   ]
  },
  {
   "cell_type": "code",
   "execution_count": 69,
   "metadata": {},
   "outputs": [
    {
     "data": {
      "text/html": [
       "<div>\n",
       "<style scoped>\n",
       "    .dataframe tbody tr th:only-of-type {\n",
       "        vertical-align: middle;\n",
       "    }\n",
       "\n",
       "    .dataframe tbody tr th {\n",
       "        vertical-align: top;\n",
       "    }\n",
       "\n",
       "    .dataframe thead th {\n",
       "        text-align: right;\n",
       "    }\n",
       "</style>\n",
       "<table border=\"1\" class=\"dataframe\">\n",
       "  <thead>\n",
       "    <tr style=\"text-align: right;\">\n",
       "      <th></th>\n",
       "      <th>X</th>\n",
       "      <th>Y</th>\n",
       "      <th>month</th>\n",
       "      <th>day</th>\n",
       "      <th>FFMC</th>\n",
       "      <th>DMC</th>\n",
       "      <th>DC</th>\n",
       "      <th>ISI</th>\n",
       "      <th>temp</th>\n",
       "      <th>RH</th>\n",
       "      <th>wind</th>\n",
       "      <th>rain</th>\n",
       "      <th>target</th>\n",
       "    </tr>\n",
       "  </thead>\n",
       "  <tbody>\n",
       "    <tr>\n",
       "      <th>0</th>\n",
       "      <td>7</td>\n",
       "      <td>5</td>\n",
       "      <td>7</td>\n",
       "      <td>0</td>\n",
       "      <td>86.2</td>\n",
       "      <td>26.2</td>\n",
       "      <td>94.3</td>\n",
       "      <td>5.1</td>\n",
       "      <td>8.2</td>\n",
       "      <td>51</td>\n",
       "      <td>6.7</td>\n",
       "      <td>0.0</td>\n",
       "      <td>0</td>\n",
       "    </tr>\n",
       "    <tr>\n",
       "      <th>1</th>\n",
       "      <td>7</td>\n",
       "      <td>4</td>\n",
       "      <td>10</td>\n",
       "      <td>5</td>\n",
       "      <td>90.6</td>\n",
       "      <td>35.4</td>\n",
       "      <td>669.1</td>\n",
       "      <td>6.7</td>\n",
       "      <td>18.0</td>\n",
       "      <td>33</td>\n",
       "      <td>0.9</td>\n",
       "      <td>0.0</td>\n",
       "      <td>0</td>\n",
       "    </tr>\n",
       "    <tr>\n",
       "      <th>2</th>\n",
       "      <td>7</td>\n",
       "      <td>4</td>\n",
       "      <td>10</td>\n",
       "      <td>2</td>\n",
       "      <td>90.6</td>\n",
       "      <td>43.7</td>\n",
       "      <td>686.9</td>\n",
       "      <td>6.7</td>\n",
       "      <td>14.6</td>\n",
       "      <td>33</td>\n",
       "      <td>1.3</td>\n",
       "      <td>0.0</td>\n",
       "      <td>0</td>\n",
       "    </tr>\n",
       "    <tr>\n",
       "      <th>3</th>\n",
       "      <td>8</td>\n",
       "      <td>6</td>\n",
       "      <td>7</td>\n",
       "      <td>0</td>\n",
       "      <td>91.7</td>\n",
       "      <td>33.3</td>\n",
       "      <td>77.5</td>\n",
       "      <td>9.0</td>\n",
       "      <td>8.3</td>\n",
       "      <td>97</td>\n",
       "      <td>4.0</td>\n",
       "      <td>0.2</td>\n",
       "      <td>0</td>\n",
       "    </tr>\n",
       "    <tr>\n",
       "      <th>4</th>\n",
       "      <td>8</td>\n",
       "      <td>6</td>\n",
       "      <td>7</td>\n",
       "      <td>3</td>\n",
       "      <td>89.3</td>\n",
       "      <td>51.3</td>\n",
       "      <td>102.2</td>\n",
       "      <td>9.6</td>\n",
       "      <td>11.4</td>\n",
       "      <td>99</td>\n",
       "      <td>1.8</td>\n",
       "      <td>0.0</td>\n",
       "      <td>0</td>\n",
       "    </tr>\n",
       "    <tr>\n",
       "      <th>...</th>\n",
       "      <td>...</td>\n",
       "      <td>...</td>\n",
       "      <td>...</td>\n",
       "      <td>...</td>\n",
       "      <td>...</td>\n",
       "      <td>...</td>\n",
       "      <td>...</td>\n",
       "      <td>...</td>\n",
       "      <td>...</td>\n",
       "      <td>...</td>\n",
       "      <td>...</td>\n",
       "      <td>...</td>\n",
       "      <td>...</td>\n",
       "    </tr>\n",
       "    <tr>\n",
       "      <th>512</th>\n",
       "      <td>4</td>\n",
       "      <td>3</td>\n",
       "      <td>1</td>\n",
       "      <td>3</td>\n",
       "      <td>81.6</td>\n",
       "      <td>56.7</td>\n",
       "      <td>665.6</td>\n",
       "      <td>1.9</td>\n",
       "      <td>27.8</td>\n",
       "      <td>32</td>\n",
       "      <td>2.7</td>\n",
       "      <td>0.0</td>\n",
       "      <td>1</td>\n",
       "    </tr>\n",
       "    <tr>\n",
       "      <th>513</th>\n",
       "      <td>2</td>\n",
       "      <td>4</td>\n",
       "      <td>1</td>\n",
       "      <td>3</td>\n",
       "      <td>81.6</td>\n",
       "      <td>56.7</td>\n",
       "      <td>665.6</td>\n",
       "      <td>1.9</td>\n",
       "      <td>21.9</td>\n",
       "      <td>71</td>\n",
       "      <td>5.8</td>\n",
       "      <td>0.0</td>\n",
       "      <td>1</td>\n",
       "    </tr>\n",
       "    <tr>\n",
       "      <th>514</th>\n",
       "      <td>7</td>\n",
       "      <td>4</td>\n",
       "      <td>1</td>\n",
       "      <td>3</td>\n",
       "      <td>81.6</td>\n",
       "      <td>56.7</td>\n",
       "      <td>665.6</td>\n",
       "      <td>1.9</td>\n",
       "      <td>21.2</td>\n",
       "      <td>70</td>\n",
       "      <td>6.7</td>\n",
       "      <td>0.0</td>\n",
       "      <td>1</td>\n",
       "    </tr>\n",
       "    <tr>\n",
       "      <th>515</th>\n",
       "      <td>1</td>\n",
       "      <td>4</td>\n",
       "      <td>1</td>\n",
       "      <td>2</td>\n",
       "      <td>94.4</td>\n",
       "      <td>146.0</td>\n",
       "      <td>614.7</td>\n",
       "      <td>11.3</td>\n",
       "      <td>25.6</td>\n",
       "      <td>42</td>\n",
       "      <td>4.0</td>\n",
       "      <td>0.0</td>\n",
       "      <td>0</td>\n",
       "    </tr>\n",
       "    <tr>\n",
       "      <th>516</th>\n",
       "      <td>6</td>\n",
       "      <td>3</td>\n",
       "      <td>9</td>\n",
       "      <td>5</td>\n",
       "      <td>79.5</td>\n",
       "      <td>3.0</td>\n",
       "      <td>106.7</td>\n",
       "      <td>1.1</td>\n",
       "      <td>11.8</td>\n",
       "      <td>31</td>\n",
       "      <td>4.5</td>\n",
       "      <td>0.0</td>\n",
       "      <td>0</td>\n",
       "    </tr>\n",
       "  </tbody>\n",
       "</table>\n",
       "<p>517 rows × 13 columns</p>\n",
       "</div>"
      ],
      "text/plain": [
       "     X  Y  month  day  FFMC    DMC     DC   ISI  temp  RH  wind  rain  target\n",
       "0    7  5      7    0  86.2   26.2   94.3   5.1   8.2  51   6.7   0.0       0\n",
       "1    7  4     10    5  90.6   35.4  669.1   6.7  18.0  33   0.9   0.0       0\n",
       "2    7  4     10    2  90.6   43.7  686.9   6.7  14.6  33   1.3   0.0       0\n",
       "3    8  6      7    0  91.7   33.3   77.5   9.0   8.3  97   4.0   0.2       0\n",
       "4    8  6      7    3  89.3   51.3  102.2   9.6  11.4  99   1.8   0.0       0\n",
       "..  .. ..    ...  ...   ...    ...    ...   ...   ...  ..   ...   ...     ...\n",
       "512  4  3      1    3  81.6   56.7  665.6   1.9  27.8  32   2.7   0.0       1\n",
       "513  2  4      1    3  81.6   56.7  665.6   1.9  21.9  71   5.8   0.0       1\n",
       "514  7  4      1    3  81.6   56.7  665.6   1.9  21.2  70   6.7   0.0       1\n",
       "515  1  4      1    2  94.4  146.0  614.7  11.3  25.6  42   4.0   0.0       0\n",
       "516  6  3      9    5  79.5    3.0  106.7   1.1  11.8  31   4.5   0.0       0\n",
       "\n",
       "[517 rows x 13 columns]"
      ]
     },
     "execution_count": 69,
     "metadata": {},
     "output_type": "execute_result"
    }
   ],
   "source": [
    "# Load dataset\n",
    "forestfires_df = pd.read_csv(\"forestfires.csv\")\n",
    "\n",
    "label_enc = LabelEncoder()\n",
    "forestfires_df[\"month\"] = label_enc.fit_transform(forestfires_df[\"month\"])\n",
    "forestfires_df[\"day\"] = label_enc.fit_transform(forestfires_df[\"day\"])\n",
    "\n",
    "def classify_area(area):\n",
    "    if area == 0:\n",
    "        return 0  # No Fire\n",
    "    elif area <= 1:\n",
    "        return 1  # Small Fire\n",
    "    elif area <= 10:\n",
    "        return 2  # Medium Fire\n",
    "    else:\n",
    "        return 3  # Large Fire\n",
    "\n",
    "#forestfires_df['target'] = forestfires_df['area'].apply(classify_area)\n",
    "\n",
    "forestfires_df[\"target\"] = np.where(forestfires_df[\"area\"] > 0, 1, 0)  # 1 = Fire, 0 = No Fire\n",
    "forestfires_df.drop(\"area\",axis=1,inplace=True)\n",
    "#forestfires_df = pd.read_csv(\"yes.csv\")\n",
    "\n",
    "\n",
    "X_forestfires, y_forestfires = forestfires_df.drop(\"target\",axis=1).values, forestfires_df[\"target\"].values\n",
    "forestfires_df"
   ]
  },
  {
   "cell_type": "code",
   "execution_count": 70,
   "metadata": {},
   "outputs": [
    {
     "data": {
      "text/plain": [
       "target\n",
       "1    270\n",
       "0    247\n",
       "Name: count, dtype: int64"
      ]
     },
     "execution_count": 70,
     "metadata": {},
     "output_type": "execute_result"
    }
   ],
   "source": [
    "forestfires_df[\"target\"].value_counts()"
   ]
  },
  {
   "cell_type": "code",
   "execution_count": 71,
   "metadata": {},
   "outputs": [],
   "source": [
    "scaler = StandardScaler()\n",
    "X_forestfires = scaler.fit_transform(X_forestfires)"
   ]
  },
  {
   "cell_type": "code",
   "execution_count": 72,
   "metadata": {},
   "outputs": [],
   "source": [
    "# Split data\n",
    "X_train_forestfires, X_test_forestfires, y_train_forestfires, y_test_forestfires = train_test_split(X_forestfires, y_forestfires, test_size=0.2, random_state=42)"
   ]
  },
  {
   "cell_type": "markdown",
   "metadata": {},
   "source": [
    "## Skin detection"
   ]
  },
  {
   "cell_type": "code",
   "execution_count": 73,
   "metadata": {},
   "outputs": [],
   "source": [
    "from ucimlrepo import fetch_ucirepo \n",
    "  \n",
    "# fetch dataset \n",
    "skin_segmentation = fetch_ucirepo(id=229) \n",
    "  \n",
    "# data (as pandas dataframes) \n",
    "X_skin_segmentation = skin_segmentation.data.features \n",
    "y_skin_segmentation = skin_segmentation.data.targets"
   ]
  },
  {
   "cell_type": "code",
   "execution_count": 74,
   "metadata": {},
   "outputs": [
    {
     "data": {
      "text/html": [
       "<div>\n",
       "<style scoped>\n",
       "    .dataframe tbody tr th:only-of-type {\n",
       "        vertical-align: middle;\n",
       "    }\n",
       "\n",
       "    .dataframe tbody tr th {\n",
       "        vertical-align: top;\n",
       "    }\n",
       "\n",
       "    .dataframe thead th {\n",
       "        text-align: right;\n",
       "    }\n",
       "</style>\n",
       "<table border=\"1\" class=\"dataframe\">\n",
       "  <thead>\n",
       "    <tr style=\"text-align: right;\">\n",
       "      <th></th>\n",
       "      <th>B</th>\n",
       "      <th>G</th>\n",
       "      <th>R</th>\n",
       "      <th>target</th>\n",
       "    </tr>\n",
       "  </thead>\n",
       "  <tbody>\n",
       "    <tr>\n",
       "      <th>0</th>\n",
       "      <td>74</td>\n",
       "      <td>85</td>\n",
       "      <td>123</td>\n",
       "      <td>1</td>\n",
       "    </tr>\n",
       "    <tr>\n",
       "      <th>1</th>\n",
       "      <td>73</td>\n",
       "      <td>84</td>\n",
       "      <td>122</td>\n",
       "      <td>1</td>\n",
       "    </tr>\n",
       "    <tr>\n",
       "      <th>2</th>\n",
       "      <td>72</td>\n",
       "      <td>83</td>\n",
       "      <td>121</td>\n",
       "      <td>1</td>\n",
       "    </tr>\n",
       "    <tr>\n",
       "      <th>3</th>\n",
       "      <td>70</td>\n",
       "      <td>81</td>\n",
       "      <td>119</td>\n",
       "      <td>1</td>\n",
       "    </tr>\n",
       "    <tr>\n",
       "      <th>4</th>\n",
       "      <td>70</td>\n",
       "      <td>81</td>\n",
       "      <td>119</td>\n",
       "      <td>1</td>\n",
       "    </tr>\n",
       "    <tr>\n",
       "      <th>...</th>\n",
       "      <td>...</td>\n",
       "      <td>...</td>\n",
       "      <td>...</td>\n",
       "      <td>...</td>\n",
       "    </tr>\n",
       "    <tr>\n",
       "      <th>245052</th>\n",
       "      <td>163</td>\n",
       "      <td>162</td>\n",
       "      <td>112</td>\n",
       "      <td>2</td>\n",
       "    </tr>\n",
       "    <tr>\n",
       "      <th>245053</th>\n",
       "      <td>163</td>\n",
       "      <td>162</td>\n",
       "      <td>112</td>\n",
       "      <td>2</td>\n",
       "    </tr>\n",
       "    <tr>\n",
       "      <th>245054</th>\n",
       "      <td>163</td>\n",
       "      <td>162</td>\n",
       "      <td>112</td>\n",
       "      <td>2</td>\n",
       "    </tr>\n",
       "    <tr>\n",
       "      <th>245055</th>\n",
       "      <td>163</td>\n",
       "      <td>162</td>\n",
       "      <td>112</td>\n",
       "      <td>2</td>\n",
       "    </tr>\n",
       "    <tr>\n",
       "      <th>245056</th>\n",
       "      <td>255</td>\n",
       "      <td>255</td>\n",
       "      <td>255</td>\n",
       "      <td>2</td>\n",
       "    </tr>\n",
       "  </tbody>\n",
       "</table>\n",
       "<p>245057 rows × 4 columns</p>\n",
       "</div>"
      ],
      "text/plain": [
       "          B    G    R  target\n",
       "0        74   85  123       1\n",
       "1        73   84  122       1\n",
       "2        72   83  121       1\n",
       "3        70   81  119       1\n",
       "4        70   81  119       1\n",
       "...     ...  ...  ...     ...\n",
       "245052  163  162  112       2\n",
       "245053  163  162  112       2\n",
       "245054  163  162  112       2\n",
       "245055  163  162  112       2\n",
       "245056  255  255  255       2\n",
       "\n",
       "[245057 rows x 4 columns]"
      ]
     },
     "execution_count": 74,
     "metadata": {},
     "output_type": "execute_result"
    }
   ],
   "source": [
    "skin_segmentation_df = X_skin_segmentation.copy()\n",
    "skin_segmentation_df[\"target\"] = y_skin_segmentation.values\n",
    "skin_segmentation_df"
   ]
  },
  {
   "cell_type": "code",
   "execution_count": 75,
   "metadata": {},
   "outputs": [
    {
     "data": {
      "text/plain": [
       "array([[ 74,  85, 123],\n",
       "       [ 73,  84, 122],\n",
       "       [ 72,  83, 121],\n",
       "       ...,\n",
       "       [163, 162, 112],\n",
       "       [163, 162, 112],\n",
       "       [255, 255, 255]], dtype=int64)"
      ]
     },
     "execution_count": 75,
     "metadata": {},
     "output_type": "execute_result"
    }
   ],
   "source": [
    "y_skin_segmentation.values\n",
    "X_skin_segmentation.values"
   ]
  },
  {
   "cell_type": "code",
   "execution_count": 76,
   "metadata": {},
   "outputs": [
    {
     "data": {
      "text/plain": [
       "(array([1, 2], dtype=int64), array([ 50859, 194198], dtype=int64))"
      ]
     },
     "execution_count": 76,
     "metadata": {},
     "output_type": "execute_result"
    }
   ],
   "source": [
    "np.unique(y_skin_segmentation.values, return_counts=True)"
   ]
  },
  {
   "cell_type": "code",
   "execution_count": 77,
   "metadata": {},
   "outputs": [],
   "source": [
    "_,X_skin_segmentation,_,y_skin_segmentation=train_test_split(X_skin_segmentation.values, y_skin_segmentation.values.ravel(), test_size=0.01, random_state=15)"
   ]
  },
  {
   "cell_type": "code",
   "execution_count": 78,
   "metadata": {},
   "outputs": [],
   "source": [
    "y_skin_segmentation[y_skin_segmentation==2] = 0"
   ]
  },
  {
   "cell_type": "code",
   "execution_count": 79,
   "metadata": {},
   "outputs": [
    {
     "data": {
      "text/plain": [
       "(array([0, 1], dtype=int64), array([1973,  478], dtype=int64))"
      ]
     },
     "execution_count": 79,
     "metadata": {},
     "output_type": "execute_result"
    }
   ],
   "source": [
    "np.unique(y_skin_segmentation, return_counts=True)"
   ]
  },
  {
   "cell_type": "code",
   "execution_count": 80,
   "metadata": {},
   "outputs": [],
   "source": [
    "# Split data\n",
    "X_train_skin_segmentation, X_test_skin_segmentation, y_train_skin_segmentation, y_test_skin_segmentation = train_test_split(X_skin_segmentation, y_skin_segmentation, test_size=0.2, random_state=42)"
   ]
  },
  {
   "cell_type": "markdown",
   "metadata": {},
   "source": [
    "# Case-studies"
   ]
  },
  {
   "cell_type": "code",
   "execution_count": 81,
   "metadata": {},
   "outputs": [],
   "source": [
    "import time"
   ]
  },
  {
   "cell_type": "markdown",
   "metadata": {},
   "source": [
    "## Wisconsin breast cancer"
   ]
  },
  {
   "cell_type": "markdown",
   "metadata": {},
   "source": [
    "### euclidean"
   ]
  },
  {
   "cell_type": "code",
   "execution_count": 82,
   "metadata": {},
   "outputs": [
    {
     "name": "stdout",
     "output_type": "stream",
     "text": [
      "best number of clusters : 50 , Best validation accuracy: 0.958\n"
     ]
    }
   ],
   "source": [
    "# Initialize and train\n",
    "fcbr_breast_cancer_euclidean = FuzzyClusteredCBR(max_clusters=50,similarity_measure=\"euclidean\")\n",
    "best_n_clusters_breast_cancer_euclidean,best_accuracy_breast_cancer_euclidean = fcbr_breast_cancer_euclidean.fuzzy_cluster_casebase(X_train_breast_cancer, y_train_breast_cancer)\n",
    "acc_var_breast_cancer_euclidean = fcbr_breast_cancer_euclidean.accuraccy_by_ncluster\n",
    "print(f\"best number of clusters : {best_n_clusters_breast_cancer_euclidean} , Best validation accuracy: {best_accuracy_breast_cancer_euclidean:.3f}\")"
   ]
  },
  {
   "cell_type": "code",
   "execution_count": 83,
   "metadata": {},
   "outputs": [
    {
     "data": {
      "text/plain": [
       "[<matplotlib.lines.Line2D at 0x17134d26050>]"
      ]
     },
     "execution_count": 83,
     "metadata": {},
     "output_type": "execute_result"
    },
    {
     "data": {
      "image/png": "[encoded data removed]",
      "text/plain": [
       "<Figure size 640x480 with 1 Axes>"
      ]
     },
     "metadata": {},
     "output_type": "display_data"
    }
   ],
   "source": [
    "import matplotlib.pyplot as plt\n",
    "plt.plot(acc_var_breast_cancer_euclidean)"
   ]
  },
  {
   "cell_type": "code",
   "execution_count": 84,
   "metadata": {},
   "outputs": [],
   "source": [
    "start = time.time()\n",
    "predicted_labels_breast_cancer_euclidean = []\n",
    "for case in X_test_breast_cancer:\n",
    "    predicted_label = fcbr_breast_cancer_euclidean.predict_new_case(case)\n",
    "    predicted_labels_breast_cancer_euclidean.append(predicted_label)\n",
    "\n",
    "accuracy_score(y_test_breast_cancer,predicted_labels_breast_cancer_euclidean)\n",
    "stop = time.time()\n",
    "breast_cancer_euclidean_time = stop - start"
   ]
  },
  {
   "cell_type": "markdown",
   "metadata": {},
   "source": [
    "### cityblock"
   ]
  },
  {
   "cell_type": "code",
   "execution_count": 85,
   "metadata": {},
   "outputs": [
    {
     "name": "stdout",
     "output_type": "stream",
     "text": [
      "best number of clusters : 21 , Best validation accuracy: 0.971\n"
     ]
    }
   ],
   "source": [
    "# Initialize and train\n",
    "fcbr_breast_cancer_cityblock = FuzzyClusteredCBR(max_clusters=50,similarity_measure=\"cityblock\")\n",
    "best_n_clusters_breast_cancer_cityblock,best_accuracy_breast_cancer_cityblock = fcbr_breast_cancer_cityblock.fuzzy_cluster_casebase(X_train_breast_cancer, y_train_breast_cancer)\n",
    "acc_var_breast_cancer_cityblock = fcbr_breast_cancer_cityblock.accuraccy_by_ncluster\n",
    "print(f\"best number of clusters : {best_n_clusters_breast_cancer_cityblock} , Best validation accuracy: {best_accuracy_breast_cancer_cityblock:.3f}\")"
   ]
  },
  {
   "cell_type": "code",
   "execution_count": 86,
   "metadata": {},
   "outputs": [
    {
     "data": {
      "text/plain": [
       "[<matplotlib.lines.Line2D at 0x171328d3dd0>]"
      ]
     },
     "execution_count": 86,
     "metadata": {},
     "output_type": "execute_result"
    },
    {
     "data": {
      "image/png": "[encoded data removed]",
      "text/plain": [
       "<Figure size 640x480 with 1 Axes>"
      ]
     },
     "metadata": {},
     "output_type": "display_data"
    }
   ],
   "source": [
    "plt.plot(acc_var_breast_cancer_cityblock)"
   ]
  },
  {
   "cell_type": "code",
   "execution_count": 87,
   "metadata": {},
   "outputs": [],
   "source": [
    "start = time.time()\n",
    "predicted_labels_breast_cancer_cityblock = []\n",
    "for case in X_test_breast_cancer:\n",
    "    predicted_label = fcbr_breast_cancer_cityblock.predict_new_case(case)\n",
    "    predicted_labels_breast_cancer_cityblock.append(predicted_label)\n",
    "\n",
    "accuracy_score(y_test_breast_cancer,predicted_labels_breast_cancer_cityblock)\n",
    "stop = time.time()\n",
    "breast_cancer_cityblock_time = stop - start"
   ]
  },
  {
   "cell_type": "markdown",
   "metadata": {},
   "source": [
    "### jaccard"
   ]
  },
  {
   "cell_type": "code",
   "execution_count": 88,
   "metadata": {},
   "outputs": [
    {
     "name": "stdout",
     "output_type": "stream",
     "text": [
      "best number of clusters : 50 , Best validation accuracy: 0.644\n"
     ]
    }
   ],
   "source": [
    "# Initialize and train\n",
    "fcbr_breast_cancer_jaccard = FuzzyClusteredCBR(max_clusters=50,similarity_measure=\"jaccard\")\n",
    "best_n_clusters_breast_cancer_jaccard,best_accuracy_breast_cancer_jaccard = fcbr_breast_cancer_jaccard.fuzzy_cluster_casebase(X_train_breast_cancer, y_train_breast_cancer)\n",
    "acc_var_breast_cancer_jaccard = fcbr_breast_cancer_jaccard.accuraccy_by_ncluster\n",
    "print(f\"best number of clusters : {best_n_clusters_breast_cancer_jaccard} , Best validation accuracy: {best_accuracy_breast_cancer_jaccard:.3f}\")"
   ]
  },
  {
   "cell_type": "code",
   "execution_count": 89,
   "metadata": {},
   "outputs": [
    {
     "data": {
      "text/plain": [
       "[<matplotlib.lines.Line2D at 0x1712f1ef510>]"
      ]
     },
     "execution_count": 89,
     "metadata": {},
     "output_type": "execute_result"
    },
    {
     "data": {
      "image/png": "[encoded data removed]",
      "text/plain": [
       "<Figure size 640x480 with 1 Axes>"
      ]
     },
     "metadata": {},
     "output_type": "display_data"
    }
   ],
   "source": [
    "plt.plot(acc_var_breast_cancer_jaccard)"
   ]
  },
  {
   "cell_type": "code",
   "execution_count": 90,
   "metadata": {},
   "outputs": [],
   "source": [
    "start = time.time()\n",
    "predicted_labels_breast_cancer_jaccard = []\n",
    "for case in X_test_breast_cancer:\n",
    "    predicted_label = fcbr_breast_cancer_jaccard.predict_new_case(case)\n",
    "    predicted_labels_breast_cancer_jaccard.append(predicted_label)\n",
    "\n",
    "accuracy_score(y_test_breast_cancer,predicted_labels_breast_cancer_jaccard)\n",
    "stop = time.time()\n",
    "breast_cancer_jaccard_time = stop - start"
   ]
  },
  {
   "cell_type": "markdown",
   "metadata": {},
   "source": [
    "### Results"
   ]
  },
  {
   "cell_type": "code",
   "execution_count": 91,
   "metadata": {},
   "outputs": [
    {
     "data": {
      "image/png": "[encoded data removed]",
      "text/plain": [
       "<Figure size 640x480 with 1 Axes>"
      ]
     },
     "metadata": {},
     "output_type": "display_data"
    }
   ],
   "source": [
    "# Create the plot\n",
    "plt.plot(acc_var_breast_cancer_euclidean, label='auclidean', linestyle='-')\n",
    "plt.plot(acc_var_breast_cancer_cityblock, label='cityblock', linestyle='--')\n",
    "plt.plot(acc_var_breast_cancer_jaccard, label='jakkard', linestyle=':')\n",
    "\n",
    "\n",
    "# Add labels, title, and legend\n",
    "plt.xlabel(\"Number of clusters\")\n",
    "plt.ylabel(\"Accuracy\")\n",
    "plt.ylim(0, 1)  # Start y-axis from 0\n",
    "plt.xlim(1, 50)  # Start y-axis from 0\n",
    "plt.xticks(np.arange(len(acc_var_breast_cancer_euclidean)), np.arange(1, len(acc_var_breast_cancer_euclidean) + 1))  # Change tick labels from 0-based to 1-based\n",
    "plt.locator_params(axis=\"y\", nbins=10)\n",
    "plt.locator_params(axis=\"x\", nbins=10)\n",
    "plt.title(\"Accuracy by number of clusters for each similarity metric\")\n",
    "plt.legend()\n",
    "\n",
    "# Show the plot\n",
    "plt.show()"
   ]
  },
  {
   "cell_type": "code",
   "execution_count": 92,
   "metadata": {},
   "outputs": [
    {
     "data": {
      "text/html": [
       "<div>\n",
       "<style scoped>\n",
       "    .dataframe tbody tr th:only-of-type {\n",
       "        vertical-align: middle;\n",
       "    }\n",
       "\n",
       "    .dataframe tbody tr th {\n",
       "        vertical-align: top;\n",
       "    }\n",
       "\n",
       "    .dataframe thead th {\n",
       "        text-align: right;\n",
       "    }\n",
       "</style>\n",
       "<table border=\"1\" class=\"dataframe\">\n",
       "  <thead>\n",
       "    <tr style=\"text-align: right;\">\n",
       "      <th></th>\n",
       "      <th>Dataset</th>\n",
       "      <th>Best number of clusters</th>\n",
       "      <th>Best accuracy</th>\n",
       "      <th>Best similarity measure</th>\n",
       "      <th>Testing time</th>\n",
       "    </tr>\n",
       "  </thead>\n",
       "  <tbody>\n",
       "    <tr>\n",
       "      <th>0</th>\n",
       "      <td>Breast Cancer</td>\n",
       "      <td>21</td>\n",
       "      <td>0.971429</td>\n",
       "      <td>cityblock</td>\n",
       "      <td>0.182073</td>\n",
       "    </tr>\n",
       "  </tbody>\n",
       "</table>\n",
       "</div>"
      ],
      "text/plain": [
       "         Dataset  Best number of clusters  Best accuracy  \\\n",
       "0  Breast Cancer                       21       0.971429   \n",
       "\n",
       "  Best similarity measure  Testing time  \n",
       "0               cityblock      0.182073  "
      ]
     },
     "execution_count": 92,
     "metadata": {},
     "output_type": "execute_result"
    }
   ],
   "source": [
    "results = pd.DataFrame(columns=[\"Dataset\",'Best number of clusters','Best accuracy' , 'Best similarity measure', 'Testing time'])\n",
    "\n",
    "breast_cancer_rs = {\n",
    "    'euclidean' : [best_accuracy_breast_cancer_euclidean,best_n_clusters_breast_cancer_euclidean,breast_cancer_euclidean_time],\n",
    "    'cityblock' : [best_accuracy_breast_cancer_cityblock,best_n_clusters_breast_cancer_cityblock,breast_cancer_cityblock_time],\n",
    "    'jaccard' : [best_accuracy_breast_cancer_jaccard,best_n_clusters_breast_cancer_jaccard,breast_cancer_jaccard_time]\n",
    "}\n",
    "\n",
    "breast_cancer_best = max(breast_cancer_rs, key=lambda k: breast_cancer_rs[k][0])\n",
    "\n",
    "results.loc[len(results)] = [\"Breast Cancer\", breast_cancer_rs[breast_cancer_best][1],breast_cancer_rs[breast_cancer_best][0],breast_cancer_best,breast_cancer_rs[breast_cancer_best][2]]\n",
    "\n",
    "results"
   ]
  },
  {
   "cell_type": "markdown",
   "metadata": {},
   "source": [
    "## Autonomic Forest Fire Application (AFFA)"
   ]
  },
  {
   "cell_type": "markdown",
   "metadata": {},
   "source": [
    "### euclidean"
   ]
  },
  {
   "cell_type": "code",
   "execution_count": 93,
   "metadata": {},
   "outputs": [
    {
     "name": "stdout",
     "output_type": "stream",
     "text": [
      "best number of clusters : 3 , Best validation accuracy: 0.540\n"
     ]
    }
   ],
   "source": [
    "# Initialize and train\n",
    "fcbr_forestfires_euclidean = FuzzyClusteredCBR(max_clusters=10,similarity_measure=\"euclidean\")\n",
    "best_n_clusters_forestfires_euclidean,best_accuracy_forestfires_euclidean = fcbr_forestfires_euclidean.fuzzy_cluster_casebase(X_train_forestfires, y_train_forestfires)\n",
    "acc_var_forestfires_euclidean = fcbr_forestfires_euclidean.accuraccy_by_ncluster\n",
    "print(f\"best number of clusters : {best_n_clusters_forestfires_euclidean} , Best validation accuracy: {best_accuracy_forestfires_euclidean:.3f}\")"
   ]
  },
  {
   "cell_type": "code",
   "execution_count": 94,
   "metadata": {},
   "outputs": [
    {
     "data": {
      "text/plain": [
       "[<matplotlib.lines.Line2D at 0x17134f359d0>]"
      ]
     },
     "execution_count": 94,
     "metadata": {},
     "output_type": "execute_result"
    },
    {
     "data": {
      "image/png": "[encoded data removed]",
      "text/plain": [
       "<Figure size 640x480 with 1 Axes>"
      ]
     },
     "metadata": {},
     "output_type": "display_data"
    }
   ],
   "source": [
    "plt.plot(acc_var_forestfires_euclidean)"
   ]
  },
  {
   "cell_type": "code",
   "execution_count": 95,
   "metadata": {},
   "outputs": [],
   "source": [
    "start = time.time()\n",
    "predicted_labels_forestfires_euclidean = []\n",
    "for case in X_test_forestfires:\n",
    "    predicted_label = fcbr_forestfires_euclidean.predict_new_case(case)\n",
    "    predicted_labels_forestfires_euclidean.append(predicted_label)\n",
    "\n",
    "np.sum(y_test_forestfires == predicted_labels_forestfires_euclidean) / len(y_test_forestfires)\n",
    "stop = time.time()\n",
    "forestfires_euclidean_time = stop - start\n"
   ]
  },
  {
   "cell_type": "markdown",
   "metadata": {},
   "source": [
    "### cityblock"
   ]
  },
  {
   "cell_type": "code",
   "execution_count": 96,
   "metadata": {},
   "outputs": [
    {
     "name": "stdout",
     "output_type": "stream",
     "text": [
      "best number of clusters : 1 , Best validation accuracy: 0.508\n"
     ]
    }
   ],
   "source": [
    "# Initialize and train\n",
    "fcbr_forestfires_cityblock = FuzzyClusteredCBR(max_clusters=10,similarity_measure=\"cityblock\")\n",
    "best_n_clusters_forestfires_cityblock,best_accuracy_forestfires_cityblock = fcbr_forestfires_cityblock.fuzzy_cluster_casebase(X_train_forestfires, y_train_forestfires)\n",
    "acc_var_forestfires_cityblock = fcbr_forestfires_cityblock.accuraccy_by_ncluster\n",
    "print(f\"best number of clusters : {best_n_clusters_forestfires_cityblock} , Best validation accuracy: {best_accuracy_forestfires_cityblock:.3f}\")"
   ]
  },
  {
   "cell_type": "code",
   "execution_count": 97,
   "metadata": {},
   "outputs": [
    {
     "data": {
      "text/plain": [
       "[<matplotlib.lines.Line2D at 0x17134ddcf10>]"
      ]
     },
     "execution_count": 97,
     "metadata": {},
     "output_type": "execute_result"
    },
    {
     "data": {
      "image/png": "[encoded data removed]",
      "text/plain": [
       "<Figure size 640x480 with 1 Axes>"
      ]
     },
     "metadata": {},
     "output_type": "display_data"
    }
   ],
   "source": [
    "plt.plot(acc_var_forestfires_cityblock)"
   ]
  },
  {
   "cell_type": "code",
   "execution_count": 98,
   "metadata": {},
   "outputs": [],
   "source": [
    "start = time.time()\n",
    "predicted_labels_forestfires_cityblock = []\n",
    "for case in X_test_forestfires:\n",
    "    predicted_label = fcbr_forestfires_cityblock.predict_new_case(case)\n",
    "    predicted_labels_forestfires_cityblock.append(predicted_label)\n",
    "predicted_labels_forestfires_cityblock = np.array(predicted_labels_forestfires_cityblock)\n",
    "\n",
    "#accuracy_score(y_test_forestfires,predicted_labels_forestfires_cityblock)\n",
    "np.sum(y_test_forestfires == predicted_labels_forestfires_cityblock) / len(y_test_forestfires)\n",
    "stop = time.time()\n",
    "forestfires_cityblock_time = stop - start\n"
   ]
  },
  {
   "cell_type": "markdown",
   "metadata": {},
   "source": [
    "### jaccard"
   ]
  },
  {
   "cell_type": "code",
   "execution_count": 99,
   "metadata": {},
   "outputs": [
    {
     "name": "stdout",
     "output_type": "stream",
     "text": [
      "best number of clusters : 4 , Best validation accuracy: 0.535\n"
     ]
    }
   ],
   "source": [
    "# Initialize and train\n",
    "fcbr_forestfires_jaccard = FuzzyClusteredCBR(max_clusters=10,similarity_measure=\"jaccard\")\n",
    "best_n_clusters_forestfires_jaccard,best_accuracy_forestfires_jaccard = fcbr_forestfires_jaccard.fuzzy_cluster_casebase(X_train_forestfires, y_train_forestfires)\n",
    "acc_var_forestfires_jaccard = fcbr_forestfires_jaccard.accuraccy_by_ncluster\n",
    "print(f\"best number of clusters : {best_n_clusters_forestfires_jaccard} , Best validation accuracy: {best_accuracy_forestfires_jaccard:.3f}\")"
   ]
  },
  {
   "cell_type": "code",
   "execution_count": 100,
   "metadata": {},
   "outputs": [
    {
     "data": {
      "text/plain": [
       "[<matplotlib.lines.Line2D at 0x17134dde110>]"
      ]
     },
     "execution_count": 100,
     "metadata": {},
     "output_type": "execute_result"
    },
    {
     "data": {
      "image/png": "[encoded data removed]",
      "text/plain": [
       "<Figure size 640x480 with 1 Axes>"
      ]
     },
     "metadata": {},
     "output_type": "display_data"
    }
   ],
   "source": [
    "plt.plot(acc_var_forestfires_jaccard)"
   ]
  },
  {
   "cell_type": "code",
   "execution_count": 101,
   "metadata": {},
   "outputs": [],
   "source": [
    "start = time.time()\n",
    "predicted_labels_forestfires_jaccard = []\n",
    "for case in X_test_forestfires:\n",
    "    predicted_label = fcbr_forestfires_jaccard.predict_new_case(case)\n",
    "    predicted_labels_forestfires_jaccard.append(predicted_label)\n",
    "\n",
    "np.sum(y_test_forestfires == predicted_labels_forestfires_jaccard) / len(y_test_forestfires)\n",
    "stop = time.time()\n",
    "forestfire_jaccard_time = stop - start\n"
   ]
  },
  {
   "cell_type": "markdown",
   "metadata": {},
   "source": [
    "### Results"
   ]
  },
  {
   "cell_type": "code",
   "execution_count": 102,
   "metadata": {},
   "outputs": [
    {
     "data": {
      "image/png": "[encoded data removed]",
      "text/plain": [
       "<Figure size 640x480 with 1 Axes>"
      ]
     },
     "metadata": {},
     "output_type": "display_data"
    }
   ],
   "source": [
    "# Create the plot\n",
    "plt.plot(acc_var_forestfires_euclidean, label='auclidean', linestyle='-')\n",
    "plt.plot(acc_var_forestfires_cityblock, label='cityblock', linestyle='--')\n",
    "plt.plot(acc_var_forestfires_jaccard, label='jakkard', linestyle=':')\n",
    "\n",
    "\n",
    "# Add labels, title, and legend\n",
    "plt.xlabel(\"Number of clusters\")\n",
    "plt.ylabel(\"Accuracy\")\n",
    "plt.ylim(0, 1)  # Start y-axis from 0\n",
    "plt.xlim(1, 10)  # Start y-axis from 0\n",
    "plt.xticks(np.arange(len(acc_var_forestfires_euclidean)), np.arange(1, len(acc_var_forestfires_euclidean) + 1))  # Change tick labels from 0-based to 1-based\n",
    "plt.locator_params(axis=\"y\", nbins=10)\n",
    "plt.locator_params(axis=\"x\", nbins=10)\n",
    "plt.title(\"Accuracy by number of clusters for each similarity metric\")\n",
    "plt.legend()\n",
    "\n",
    "# Show the plot\n",
    "plt.show()"
   ]
  },
  {
   "cell_type": "code",
   "execution_count": 103,
   "metadata": {},
   "outputs": [
    {
     "data": {
      "text/html": [
       "<div>\n",
       "<style scoped>\n",
       "    .dataframe tbody tr th:only-of-type {\n",
       "        vertical-align: middle;\n",
       "    }\n",
       "\n",
       "    .dataframe tbody tr th {\n",
       "        vertical-align: top;\n",
       "    }\n",
       "\n",
       "    .dataframe thead th {\n",
       "        text-align: right;\n",
       "    }\n",
       "</style>\n",
       "<table border=\"1\" class=\"dataframe\">\n",
       "  <thead>\n",
       "    <tr style=\"text-align: right;\">\n",
       "      <th></th>\n",
       "      <th>Dataset</th>\n",
       "      <th>Best number of clusters</th>\n",
       "      <th>Best accuracy</th>\n",
       "      <th>Best similarity measure</th>\n",
       "      <th>Testing time</th>\n",
       "    </tr>\n",
       "  </thead>\n",
       "  <tbody>\n",
       "    <tr>\n",
       "      <th>0</th>\n",
       "      <td>Breast Cancer</td>\n",
       "      <td>21</td>\n",
       "      <td>0.971429</td>\n",
       "      <td>cityblock</td>\n",
       "      <td>0.182073</td>\n",
       "    </tr>\n",
       "    <tr>\n",
       "      <th>1</th>\n",
       "      <td>Forest Fire</td>\n",
       "      <td>3</td>\n",
       "      <td>0.539952</td>\n",
       "      <td>euclidean</td>\n",
       "      <td>0.125005</td>\n",
       "    </tr>\n",
       "  </tbody>\n",
       "</table>\n",
       "</div>"
      ],
      "text/plain": [
       "         Dataset  Best number of clusters  Best accuracy  \\\n",
       "0  Breast Cancer                       21       0.971429   \n",
       "1    Forest Fire                        3       0.539952   \n",
       "\n",
       "  Best similarity measure  Testing time  \n",
       "0               cityblock      0.182073  \n",
       "1               euclidean      0.125005  "
      ]
     },
     "execution_count": 103,
     "metadata": {},
     "output_type": "execute_result"
    }
   ],
   "source": [
    "forestfires_rs = {\n",
    "    'euclidean' : [best_accuracy_forestfires_euclidean,best_n_clusters_forestfires_euclidean,forestfires_euclidean_time],\n",
    "    'cityblock' : [best_accuracy_forestfires_cityblock,best_n_clusters_forestfires_cityblock,forestfires_cityblock_time],\n",
    "    'jaccard' : [best_accuracy_forestfires_jaccard,best_n_clusters_forestfires_jaccard,forestfire_jaccard_time]\n",
    "}\n",
    "\n",
    "forestfires_best = max(forestfires_rs, key=lambda k: forestfires_rs[k][0])\n",
    "\n",
    "results.loc[len(results)] = [\"Forest Fire\", forestfires_rs[forestfires_best][1],forestfires_rs[forestfires_best][0],forestfires_best,forestfires_rs[forestfires_best][2]]\n",
    "\n",
    "results"
   ]
  },
  {
   "cell_type": "markdown",
   "metadata": {},
   "source": [
    "## Skin detection"
   ]
  },
  {
   "cell_type": "markdown",
   "metadata": {},
   "source": [
    "### euclidean"
   ]
  },
  {
   "cell_type": "code",
   "execution_count": 104,
   "metadata": {},
   "outputs": [
    {
     "name": "stdout",
     "output_type": "stream",
     "text": [
      "best number of clusters : 35 , Best validation accuracy: 0.971\n"
     ]
    }
   ],
   "source": [
    "# Initialize and train\n",
    "fcbr_skin_segmentation_euclidean = FuzzyClusteredCBR(max_clusters=35,similarity_measure=\"euclidean\")\n",
    "best_n_clusters_skin_segmentation_euclidean,best_accuracy_skin_segmentation_euclidean = fcbr_skin_segmentation_euclidean.fuzzy_cluster_casebase(X_train_skin_segmentation, y_train_skin_segmentation)\n",
    "acc_var_skin_segmentation_euclidean = fcbr_skin_segmentation_euclidean.accuraccy_by_ncluster\n",
    "print(f\"best number of clusters : {best_n_clusters_skin_segmentation_euclidean} , Best validation accuracy: {best_accuracy_skin_segmentation_euclidean:.3f}\")"
   ]
  },
  {
   "cell_type": "code",
   "execution_count": 105,
   "metadata": {},
   "outputs": [
    {
     "data": {
      "text/plain": [
       "[<matplotlib.lines.Line2D at 0x17132847f10>]"
      ]
     },
     "execution_count": 105,
     "metadata": {},
     "output_type": "execute_result"
    },
    {
     "data": {
      "image/png": "[encoded data removed]",
      "text/plain": [
       "<Figure size 640x480 with 1 Axes>"
      ]
     },
     "metadata": {},
     "output_type": "display_data"
    }
   ],
   "source": [
    "plt.plot(acc_var_skin_segmentation_euclidean)"
   ]
  },
  {
   "cell_type": "code",
   "execution_count": 106,
   "metadata": {},
   "outputs": [],
   "source": [
    "start = time.time()\n",
    "predicted_labels_skin_segmentation_euclidean = []\n",
    "for case in X_test_skin_segmentation:\n",
    "    predicted_label = fcbr_skin_segmentation_euclidean.predict_new_case(case)\n",
    "    predicted_labels_skin_segmentation_euclidean.append(predicted_label)\n",
    "predicted_labels_skin_segmentation_euclidean = np.array(predicted_labels_skin_segmentation_euclidean)\n",
    "\n",
    "#accuracy_score(y_test_skin_segmentation,predicted_labels_skin_segmentation_euclidean)\n",
    "np.sum(y_test_skin_segmentation == predicted_labels_skin_segmentation_euclidean) / len(y_test_skin_segmentation)\n",
    "stop = time.time()\n",
    "skin_segmentation_euclidean_time = stop - start\n"
   ]
  },
  {
   "cell_type": "markdown",
   "metadata": {},
   "source": [
    "### cityblock"
   ]
  },
  {
   "cell_type": "code",
   "execution_count": 107,
   "metadata": {},
   "outputs": [
    {
     "name": "stdout",
     "output_type": "stream",
     "text": [
      "best number of clusters : 35 , Best validation accuracy: 0.972\n"
     ]
    }
   ],
   "source": [
    "# Initialize and train\n",
    "fcbr_skin_segmentation_cityblock = FuzzyClusteredCBR(max_clusters=35,similarity_measure=\"cityblock\")\n",
    "best_n_clusters_skin_segmentation_cityblock,best_accuracy_skin_segmentation_cityblock = fcbr_skin_segmentation_cityblock.fuzzy_cluster_casebase(X_train_skin_segmentation, y_train_skin_segmentation)\n",
    "acc_var_skin_segmentation_cityblock = fcbr_skin_segmentation_cityblock.accuraccy_by_ncluster\n",
    "print(f\"best number of clusters : {best_n_clusters_skin_segmentation_cityblock} , Best validation accuracy: {best_accuracy_skin_segmentation_cityblock:.3f}\")"
   ]
  },
  {
   "cell_type": "code",
   "execution_count": 108,
   "metadata": {},
   "outputs": [
    {
     "data": {
      "text/plain": [
       "[<matplotlib.lines.Line2D at 0x17134d08210>]"
      ]
     },
     "execution_count": 108,
     "metadata": {},
     "output_type": "execute_result"
    },
    {
     "data": {
      "image/png": "[encoded data removed]",
      "text/plain": [
       "<Figure size 640x480 with 1 Axes>"
      ]
     },
     "metadata": {},
     "output_type": "display_data"
    }
   ],
   "source": [
    "plt.plot(acc_var_skin_segmentation_cityblock)"
   ]
  },
  {
   "cell_type": "code",
   "execution_count": 109,
   "metadata": {},
   "outputs": [],
   "source": [
    "start = time.time()\n",
    "predicted_labels_skin_segmentation_cityblock = []\n",
    "for case in X_test_skin_segmentation:\n",
    "    predicted_label = fcbr_skin_segmentation_cityblock.predict_new_case(case)\n",
    "    predicted_labels_skin_segmentation_cityblock.append(predicted_label)\n",
    "predicted_labels_skin_segmentation_cityblock = np.array(predicted_labels_skin_segmentation_cityblock)\n",
    "\n",
    "#accuracy_score(y_test_skin_segmentation,predicted_labels_skin_segmentation_cityblock)\n",
    "np.sum(y_test_skin_segmentation == predicted_labels_skin_segmentation_cityblock) / len(y_test_skin_segmentation)\n",
    "stop = time.time()\n",
    "skin_segmentation_cityblock_time = stop - start\n"
   ]
  },
  {
   "cell_type": "code",
   "execution_count": 110,
   "metadata": {},
   "outputs": [
    {
     "data": {
      "text/plain": [
       "(491,)"
      ]
     },
     "execution_count": 110,
     "metadata": {},
     "output_type": "execute_result"
    }
   ],
   "source": [
    "y_test_skin_segmentation.shape\n"
   ]
  },
  {
   "cell_type": "markdown",
   "metadata": {},
   "source": [
    "### jaccard"
   ]
  },
  {
   "cell_type": "code",
   "execution_count": null,
   "metadata": {},
   "outputs": [
    {
     "name": "stdout",
     "output_type": "stream",
     "text": [
      "best number of clusters : 35 ,-+ Best validation accuracy: 0.848\n"
     ]
    }
   ],
   "source": [
    "# Initialize and train\n",
    "fcbr_skin_segmentation_jaccard = FuzzyClusteredCBR(max_clusters=35,similarity_measure=\"jaccard\")\n",
    "best_n_clusters_skin_segmentation_jaccard,best_accuracy_skin_segmentation_jaccard = fcbr_skin_segmentation_jaccard.fuzzy_cluster_casebase(X_train_skin_segmentation, y_train_skin_segmentation)\n",
    "acc_var_skin_segmentation_jaccard = fcbr_skin_segmentation_jaccard.accuraccy_by_ncluster\n",
    "print(f\"best number of clusters : {best_n_clusters_skin_segmentation_jaccard} ,Best validation accuracy: {best_accuracy_skin_segmentation_jaccard:.3f}\")"
   ]
  },
  {
   "cell_type": "code",
   "execution_count": 112,
   "metadata": {},
   "outputs": [
    {
     "data": {
      "text/plain": [
       "[<matplotlib.lines.Line2D at 0x17136824310>]"
      ]
     },
     "execution_count": 112,
     "metadata": {},
     "output_type": "execute_result"
    },
    {
     "data": {
      "image/png": "[encoded data removed]",
      "text/plain": [
       "<Figure size 640x480 with 1 Axes>"
      ]
     },
     "metadata": {},
     "output_type": "display_data"
    }
   ],
   "source": [
    "plt.plot(acc_var_skin_segmentation_jaccard)"
   ]
  },
  {
   "cell_type": "code",
   "execution_count": 113,
   "metadata": {},
   "outputs": [],
   "source": [
    "start = time.time()\n",
    "predicted_labels_skin_segmentation_jaccard = []\n",
    "for case in X_test_skin_segmentation:\n",
    "    predicted_label = fcbr_skin_segmentation_jaccard.predict_new_case(case)\n",
    "    predicted_labels_skin_segmentation_jaccard.append(predicted_label)\n",
    "\n",
    "#accuracy_score(y_test_skin_segmentation,predicted_labels_skin_segmentation_jaccard)\n",
    "np.sum(y_test_skin_segmentation == predicted_labels_skin_segmentation_jaccard) / len(y_test_skin_segmentation)\n",
    "stop = time.time()\n",
    "skin_segmentation_jaccard_time = stop - start\n"
   ]
  },
  {
   "cell_type": "markdown",
   "metadata": {},
   "source": [
    "### Results"
   ]
  },
  {
   "cell_type": "code",
   "execution_count": 114,
   "metadata": {},
   "outputs": [
    {
     "data": {
      "image/png": "[encoded data removed]",
      "text/plain": [
       "<Figure size 640x480 with 1 Axes>"
      ]
     },
     "metadata": {},
     "output_type": "display_data"
    }
   ],
   "source": [
    "# Create the plot\n",
    "plt.plot(acc_var_skin_segmentation_euclidean, label='auclidean', linestyle='-')\n",
    "plt.plot(acc_var_skin_segmentation_cityblock, label='cityblock', linestyle='--')\n",
    "plt.plot(acc_var_skin_segmentation_jaccard, label='jakkard', linestyle=':')\n",
    "\n",
    "\n",
    "# Add labels, title, and legend\n",
    "plt.xlabel(\"Number of clusters\")\n",
    "plt.ylabel(\"Accuracy\")\n",
    "plt.ylim(0, 1)  # Start y-axis from 0\n",
    "plt.xlim(1, 35)  # Start y-axis from 0\n",
    "plt.xticks(np.arange(len(acc_var_skin_segmentation_euclidean)), np.arange(1, len(acc_var_skin_segmentation_euclidean) + 1))  # Change tick labels from 0-based to 1-based\n",
    "plt.locator_params(axis=\"y\", nbins=10)\n",
    "plt.locator_params(axis=\"x\", nbins=10)\n",
    "plt.title(\"Accuracy by number of clusters for each similarity metric\")\n",
    "plt.legend()\n",
    "\n",
    "# Show the plot\n",
    "plt.show()"
   ]
  },
  {
   "cell_type": "code",
   "execution_count": 115,
   "metadata": {},
   "outputs": [
    {
     "data": {
      "text/html": [
       "<div>\n",
       "<style scoped>\n",
       "    .dataframe tbody tr th:only-of-type {\n",
       "        vertical-align: middle;\n",
       "    }\n",
       "\n",
       "    .dataframe tbody tr th {\n",
       "        vertical-align: top;\n",
       "    }\n",
       "\n",
       "    .dataframe thead th {\n",
       "        text-align: right;\n",
       "    }\n",
       "</style>\n",
       "<table border=\"1\" class=\"dataframe\">\n",
       "  <thead>\n",
       "    <tr style=\"text-align: right;\">\n",
       "      <th></th>\n",
       "      <th>Dataset</th>\n",
       "      <th>Best number of clusters</th>\n",
       "      <th>Best accuracy</th>\n",
       "      <th>Best similarity measure</th>\n",
       "      <th>Testing time</th>\n",
       "    </tr>\n",
       "  </thead>\n",
       "  <tbody>\n",
       "    <tr>\n",
       "      <th>0</th>\n",
       "      <td>Breast Cancer</td>\n",
       "      <td>21</td>\n",
       "      <td>0.971429</td>\n",
       "      <td>cityblock</td>\n",
       "      <td>0.182073</td>\n",
       "    </tr>\n",
       "    <tr>\n",
       "      <th>1</th>\n",
       "      <td>Forest Fire</td>\n",
       "      <td>3</td>\n",
       "      <td>0.539952</td>\n",
       "      <td>euclidean</td>\n",
       "      <td>0.125005</td>\n",
       "    </tr>\n",
       "    <tr>\n",
       "      <th>2</th>\n",
       "      <td>Skin Segmentation</td>\n",
       "      <td>35</td>\n",
       "      <td>0.972449</td>\n",
       "      <td>cityblock</td>\n",
       "      <td>1.544511</td>\n",
       "    </tr>\n",
       "  </tbody>\n",
       "</table>\n",
       "</div>"
      ],
      "text/plain": [
       "             Dataset  Best number of clusters  Best accuracy  \\\n",
       "0      Breast Cancer                       21       0.971429   \n",
       "1        Forest Fire                        3       0.539952   \n",
       "2  Skin Segmentation                       35       0.972449   \n",
       "\n",
       "  Best similarity measure  Testing time  \n",
       "0               cityblock      0.182073  \n",
       "1               euclidean      0.125005  \n",
       "2               cityblock      1.544511  "
      ]
     },
     "execution_count": 115,
     "metadata": {},
     "output_type": "execute_result"
    }
   ],
   "source": [
    "skin_segmentation_rs = {\n",
    "    'euclidean' : [best_accuracy_skin_segmentation_euclidean,best_n_clusters_skin_segmentation_euclidean,skin_segmentation_euclidean_time],\n",
    "    'cityblock' : [best_accuracy_skin_segmentation_cityblock,best_n_clusters_skin_segmentation_cityblock,skin_segmentation_cityblock_time],\n",
    "    'jaccard' : [best_accuracy_skin_segmentation_jaccard,best_n_clusters_skin_segmentation_jaccard,fcbr_skin_segmentation_jaccard]\n",
    "}\n",
    "\n",
    "skin_segmentation_best = max(skin_segmentation_rs, key=lambda k: skin_segmentation_rs[k][0])\n",
    "\n",
    "results.loc[len(results)] = [\"Skin Segmentation\", skin_segmentation_rs[skin_segmentation_best][1],skin_segmentation_rs[skin_segmentation_best][0],skin_segmentation_best,skin_segmentation_rs[skin_segmentation_best][2]]\n",
    "\n",
    "results"
   ]
  },
  {
   "cell_type": "markdown",
   "metadata": {},
   "source": [
    "## Comparing time"
   ]
  },
  {
   "cell_type": "code",
   "execution_count": 116,
   "metadata": {},
   "outputs": [
    {
     "data": {
      "text/html": [
       "<div>\n",
       "<style scoped>\n",
       "    .dataframe tbody tr th:only-of-type {\n",
       "        vertical-align: middle;\n",
       "    }\n",
       "\n",
       "    .dataframe tbody tr th {\n",
       "        vertical-align: top;\n",
       "    }\n",
       "\n",
       "    .dataframe thead th {\n",
       "        text-align: right;\n",
       "    }\n",
       "</style>\n",
       "<table border=\"1\" class=\"dataframe\">\n",
       "  <thead>\n",
       "    <tr style=\"text-align: right;\">\n",
       "      <th></th>\n",
       "      <th>Dataset</th>\n",
       "      <th>Best number of clusters</th>\n",
       "      <th>Best accuracy</th>\n",
       "      <th>Best similarity measure</th>\n",
       "      <th>Testing time</th>\n",
       "    </tr>\n",
       "  </thead>\n",
       "  <tbody>\n",
       "    <tr>\n",
       "      <th>0</th>\n",
       "      <td>Breast Cancer</td>\n",
       "      <td>21</td>\n",
       "      <td>0.971429</td>\n",
       "      <td>cityblock</td>\n",
       "      <td>0.182073</td>\n",
       "    </tr>\n",
       "    <tr>\n",
       "      <th>1</th>\n",
       "      <td>Forest Fire</td>\n",
       "      <td>3</td>\n",
       "      <td>0.539952</td>\n",
       "      <td>euclidean</td>\n",
       "      <td>0.125005</td>\n",
       "    </tr>\n",
       "    <tr>\n",
       "      <th>2</th>\n",
       "      <td>Skin Segmentation</td>\n",
       "      <td>35</td>\n",
       "      <td>0.972449</td>\n",
       "      <td>cityblock</td>\n",
       "      <td>1.544511</td>\n",
       "    </tr>\n",
       "  </tbody>\n",
       "</table>\n",
       "</div>"
      ],
      "text/plain": [
       "             Dataset  Best number of clusters  Best accuracy  \\\n",
       "0      Breast Cancer                       21       0.971429   \n",
       "1        Forest Fire                        3       0.539952   \n",
       "2  Skin Segmentation                       35       0.972449   \n",
       "\n",
       "  Best similarity measure  Testing time  \n",
       "0               cityblock      0.182073  \n",
       "1               euclidean      0.125005  \n",
       "2               cityblock      1.544511  "
      ]
     },
     "execution_count": 116,
     "metadata": {},
     "output_type": "execute_result"
    }
   ],
   "source": [
    "results"
   ]
  },
  {
   "cell_type": "markdown",
   "metadata": {},
   "source": [
    "### breast cancer"
   ]
  },
  {
   "cell_type": "code",
   "execution_count": 117,
   "metadata": {},
   "outputs": [
    {
     "name": "stdout",
     "output_type": "stream",
     "text": [
      "Best validation accuracy: 0.626\n"
     ]
    }
   ],
   "source": [
    "# Initialize and train\n",
    "fcbr_breast_cancer_cityblock_nocluster = FuzzyClusteredCBR(similarity_measure=\"cityblock\",nclusters=1)\n",
    "best_n_clusters_breast_cancer_cityblock_nocluster,best_accuracy_breast_cancer_cityblock_nocluster = fcbr_breast_cancer_cityblock_nocluster.fuzzy_cluster_casebase(X_train_breast_cancer, y_train_breast_cancer)\n",
    "print(f\"Best validation accuracy: {best_accuracy_breast_cancer_cityblock_nocluster:.3f}\")"
   ]
  },
  {
   "cell_type": "code",
   "execution_count": 133,
   "metadata": {},
   "outputs": [],
   "source": [
    "start = time.time()\n",
    "predicted_labels_breast_cancer_cityblock_nocluster = []\n",
    "for case in X_test_breast_cancer:\n",
    "    predicted_label = fcbr_breast_cancer_cityblock_nocluster.predict_new_case(case)\n",
    "    predicted_labels_breast_cancer_cityblock_nocluster.append(predicted_label)\n",
    "\n",
    "accuracy_score(y_test_breast_cancer,predicted_labels_breast_cancer_cityblock_nocluster)\n",
    "stop = time.time()\n",
    "breast_cancer_cityblock_time_nocluster = stop - start"
   ]
  },
  {
   "cell_type": "markdown",
   "metadata": {},
   "source": [
    "### Forest Fire"
   ]
  },
  {
   "cell_type": "code",
   "execution_count": 119,
   "metadata": {},
   "outputs": [
    {
     "name": "stdout",
     "output_type": "stream",
     "text": [
      "Best validation accuracy: 0.508\n"
     ]
    }
   ],
   "source": [
    "# Initialize and train\n",
    "fcbr_forestfires_cityblock_nocluster = FuzzyClusteredCBR(max_clusters=10,similarity_measure=\"euclidean\",nclusters=1)\n",
    "best_n_clusters_forestfires_cityblock_nocluster,best_accuracy_forestfires_cityblock_nocluster = fcbr_forestfires_cityblock_nocluster.fuzzy_cluster_casebase(X_train_forestfires, y_train_forestfires)\n",
    "print(f\"Best validation accuracy: {best_accuracy_forestfires_cityblock_nocluster:.3f}\")"
   ]
  },
  {
   "cell_type": "code",
   "execution_count": 130,
   "metadata": {},
   "outputs": [],
   "source": [
    "start = time.time()\n",
    "predicted_labels_forestfires_cityblock_nocluster = []\n",
    "for case in X_test_forestfires:\n",
    "    predicted_label = fcbr_forestfires_cityblock_nocluster.predict_new_case(case)\n",
    "    predicted_labels_forestfires_cityblock_nocluster.append(predicted_label)\n",
    "predicted_labels_forestfires_cityblock_nocluster = np.array(predicted_labels_forestfires_cityblock_nocluster)\n",
    "\n",
    "#accuracy_score(y_test_forestfires,predicted_labels_forestfires_cityblock_nocluster)\n",
    "np.sum(y_test_forestfires == predicted_labels_forestfires_cityblock_nocluster) / len(y_test_forestfires)\n",
    "stop = time.time()\n",
    "forestfires_cityblock_time_nocluster = stop - start\n"
   ]
  },
  {
   "cell_type": "markdown",
   "metadata": {},
   "source": [
    "### Skin Detection"
   ]
  },
  {
   "cell_type": "code",
   "execution_count": 125,
   "metadata": {},
   "outputs": [
    {
     "name": "stdout",
     "output_type": "stream",
     "text": [
      "Best validation accuracy: 0.810\n"
     ]
    }
   ],
   "source": [
    "# Initialize and train\n",
    "fcbr_skin_segmentation_cityblock_nocluster = FuzzyClusteredCBR(max_clusters=10,similarity_measure=\"cityblock\",nclusters=1)\n",
    "best_n_clusters_skin_segmentation_cityblock_nocluster,best_accuracy_skin_segmentation_cityblock_nocluster = fcbr_skin_segmentation_cityblock_nocluster.fuzzy_cluster_casebase(X_train_skin_segmentation, y_train_skin_segmentation)\n",
    "print(f\"Best validation accuracy: {best_accuracy_skin_segmentation_cityblock_nocluster:.3f}\")"
   ]
  },
  {
   "cell_type": "code",
   "execution_count": 126,
   "metadata": {},
   "outputs": [],
   "source": [
    "start = time.time()\n",
    "predicted_labels_skin_segmentation_cityblock_nocluster = []\n",
    "for case in X_test_skin_segmentation:\n",
    "    predicted_label = fcbr_skin_segmentation_cityblock_nocluster.predict_new_case(case)\n",
    "    predicted_labels_skin_segmentation_cityblock_nocluster.append(predicted_label)\n",
    "predicted_labels_skin_segmentation_cityblock_nocluster = np.array(predicted_labels_skin_segmentation_cityblock_nocluster)\n",
    "\n",
    "#accuracy_score(y_test_skin_segmentation,predicted_labels_skin_segmentation_cityblock_nocluster)\n",
    "np.sum(y_test_skin_segmentation == predicted_labels_skin_segmentation_cityblock_nocluster) / len(y_test_skin_segmentation)\n",
    "stop = time.time()\n",
    "skin_segmentation_cityblock_time_nocluster = stop - start\n"
   ]
  },
  {
   "cell_type": "code",
   "execution_count": 134,
   "metadata": {},
   "outputs": [],
   "source": [
    "results[\"Testing time no cluster\"] = [breast_cancer_cityblock_time_nocluster,forestfires_cityblock_time_nocluster,skin_segmentation_cityblock_time_nocluster]"
   ]
  },
  {
   "cell_type": "code",
   "execution_count": 135,
   "metadata": {},
   "outputs": [
    {
     "data": {
      "text/html": [
       "<div>\n",
       "<style scoped>\n",
       "    .dataframe tbody tr th:only-of-type {\n",
       "        vertical-align: middle;\n",
       "    }\n",
       "\n",
       "    .dataframe tbody tr th {\n",
       "        vertical-align: top;\n",
       "    }\n",
       "\n",
       "    .dataframe thead th {\n",
       "        text-align: right;\n",
       "    }\n",
       "</style>\n",
       "<table border=\"1\" class=\"dataframe\">\n",
       "  <thead>\n",
       "    <tr style=\"text-align: right;\">\n",
       "      <th></th>\n",
       "      <th>Dataset</th>\n",
       "      <th>Best number of clusters</th>\n",
       "      <th>Best accuracy</th>\n",
       "      <th>Best similarity measure</th>\n",
       "      <th>Testing time</th>\n",
       "      <th>Testing time no cluster</th>\n",
       "    </tr>\n",
       "  </thead>\n",
       "  <tbody>\n",
       "    <tr>\n",
       "      <th>0</th>\n",
       "      <td>Breast Cancer</td>\n",
       "      <td>21</td>\n",
       "      <td>0.971429</td>\n",
       "      <td>cityblock</td>\n",
       "      <td>0.182073</td>\n",
       "      <td>0.207027</td>\n",
       "    </tr>\n",
       "    <tr>\n",
       "      <th>1</th>\n",
       "      <td>Forest Fire</td>\n",
       "      <td>3</td>\n",
       "      <td>0.539952</td>\n",
       "      <td>euclidean</td>\n",
       "      <td>0.125005</td>\n",
       "      <td>0.203013</td>\n",
       "    </tr>\n",
       "    <tr>\n",
       "      <th>2</th>\n",
       "      <td>Skin Segmentation</td>\n",
       "      <td>35</td>\n",
       "      <td>0.972449</td>\n",
       "      <td>cityblock</td>\n",
       "      <td>1.544511</td>\n",
       "      <td>3.083595</td>\n",
       "    </tr>\n",
       "  </tbody>\n",
       "</table>\n",
       "</div>"
      ],
      "text/plain": [
       "             Dataset  Best number of clusters  Best accuracy  \\\n",
       "0      Breast Cancer                       21       0.971429   \n",
       "1        Forest Fire                        3       0.539952   \n",
       "2  Skin Segmentation                       35       0.972449   \n",
       "\n",
       "  Best similarity measure  Testing time  Testing time no cluster  \n",
       "0               cityblock      0.182073                 0.207027  \n",
       "1               euclidean      0.125005                 0.203013  \n",
       "2               cityblock      1.544511                 3.083595  "
      ]
     },
     "execution_count": 135,
     "metadata": {},
     "output_type": "execute_result"
    }
   ],
   "source": [
    "results"
   ]
  }
 ],
 "metadata": {
  "kernelspec": {
   "display_name": "DL",
   "language": "python",
   "name": "python3"
  },
  "language_info": {
   "codemirror_mode": {
    "name": "ipython",
    "version": 3
   },
   "file_extension": ".py",
   "mimetype": "text/x-python",
   "name": "python",
   "nbconvert_exporter": "python",
   "pygments_lexer": "ipython3",
   "version": "3.11.11"
  }
 },
 "nbformat": 4,
 "nbformat_minor": 2
}
